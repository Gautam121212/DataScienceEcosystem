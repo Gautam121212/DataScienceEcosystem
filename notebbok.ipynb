{
 "cells": [
  {
   "cell_type": "markdown",
   "id": "0b9807f6-2461-4c13-a8d3-4e0e1c0fdb75",
   "metadata": {},
   "source": [
    "# Data Science Tools and Ecosystem\n"
   ]
  },
  {
   "cell_type": "markdown",
   "id": "b5bec2d1-1289-4533-b525-ebb4e91eb7ee",
   "metadata": {},
   "source": [
    "In this notebook, Data Science Tools and Ecosystem are summarized."
   ]
  },
  {
   "cell_type": "markdown",
   "id": "ae31a823-cf89-4b3c-8fe8-787318321889",
   "metadata": {},
   "source": [
    "Some of the popular languages that Data Scientists use are:\n",
    "\n",
    "1. Python – Most popular for data analysis, ML, and AI.\n",
    "2. R – Excellent for statistics and data visualization.\n",
    "3. SQL – Essential for querying and managing data.\n",
    "4. Julia – High-performance computing and numerical analysis.\n",
    "5. Scala – Big data processing with Apache Spark."
   ]
  },
  {
   "cell_type": "markdown",
   "id": "6366a61e-614b-4979-822d-67f793909ded",
   "metadata": {},
   "source": [
    "Here are some widely used libraries and frameworks in data science:\n",
    "\n",
    "1. NumPy – Fundamental library for numerical computing and array operations.  \n",
    "2. Pandas – Powerful tool for data manipulation, cleaning, and analysis.  \n",
    "3. Matplotlib – Basic plotting library for data visualization.  \n",
    "4. Seaborn – High-level data visualization built on top of Matplotlib.  \n",
    "5. Scikit-learn – Machine learning library for classification, regression, and clustering.  \n",
    "6. TensorFlow – Deep learning framework for building and training neural networks.  \n",
    "7. Keras – High-level neural network API running on top of TensorFlow.  \n",
    "8. PyTorch – Deep learning framework focused on flexibility and dynamic computation graphs.  \n",
    "9. Statsmodels – Used for statistical modeling and hypothesis testing.\n",
    "10. NLTK/SpaCy – Libraries for natural language processing (NLP) tasks."
   ]
  },
  {
   "cell_type": "markdown",
   "id": "67cc2999-3e38-4272-b21f-7e26d643bf1d",
   "metadata": {},
   "source": [
    "### Below are a few examples of evaluating arithmetic expressions in Python\n",
    "\n",
    "Data Science Tools\n",
    "\n",
    "| Data Science Tools        |\n",
    "|---------------------------|\n",
    "| Jupyter Notebook         |\n",
    "| RStudio                  |\n",
    "| VS Code                  |\n"
   ]
  },
  {
   "cell_type": "markdown",
   "id": "2f79a65a-e038-4e42-82ad-ae562bfd7a37",
   "metadata": {},
   "source": [
    "### Below are a few examples of evaluating arithmetic expressions in Python"
   ]
  },
  {
   "cell_type": "code",
   "execution_count": 2,
   "id": "7291eb19-9eb6-4576-b3fb-0fd21189266c",
   "metadata": {},
   "outputs": [
    {
     "data": {
      "text/plain": [
       "17"
      ]
     },
     "execution_count": 2,
     "metadata": {},
     "output_type": "execute_result"
    }
   ],
   "source": [
    "(3*4)+5\n",
    "#This a simple arithmetic expression to mutiply then add integers"
   ]
  },
  {
   "cell_type": "code",
   "execution_count": 3,
   "id": "0693d809-8abe-409f-bb40-2f812ea3de4e",
   "metadata": {},
   "outputs": [
    {
     "data": {
      "text/plain": [
       "3.3333333333333335"
      ]
     },
     "execution_count": 3,
     "metadata": {},
     "output_type": "execute_result"
    }
   ],
   "source": [
    "# This will convert 200 minutes to hours by dividing by 60\n",
    "200 / 60"
   ]
  },
  {
   "cell_type": "markdown",
   "id": "1a828d90-a4f8-4ec7-82f1-98fdc3ef87c4",
   "metadata": {},
   "source": [
    "**Objectives:**\n",
    "\n",
    "- List popular languages for Data Science  \n",
    "- Identify commonly used data science libraries and tools  \n",
    "- Create and format Markdown cells in Jupyter Notebooks  \n",
    "- Perform basic arithmetic operations using Python  \n",
    "- Build simple tables and lists to organize information\n"
   ]
  },
  {
   "cell_type": "markdown",
   "id": "ff12cafd-234c-42be-9daa-6872d1852ba8",
   "metadata": {},
   "source": [
    "## Author \n",
    "Gautam\n"
   ]
  },
  {
   "cell_type": "code",
   "execution_count": null,
   "id": "09130646-ec29-49fb-a2c7-0ffbe5d01633",
   "metadata": {},
   "outputs": [],
   "source": []
  }
 ],
 "metadata": {
  "kernelspec": {
   "display_name": "Python [conda env:base] *",
   "language": "python",
   "name": "conda-base-py"
  },
  "language_info": {
   "codemirror_mode": {
    "name": "ipython",
    "version": 3
   },
   "file_extension": ".py",
   "mimetype": "text/x-python",
   "name": "python",
   "nbconvert_exporter": "python",
   "pygments_lexer": "ipython3",
   "version": "3.13.5"
  }
 },
 "nbformat": 4,
 "nbformat_minor": 5
}
